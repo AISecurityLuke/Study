{
  "cells": [
    {
      "cell_type": "markdown",
      "metadata": {},
      "source": [
        "# Customer Churn Prediction (AWS Mini-Project)\n",
        "\n",
        "Sections: Data Loading → EDA → Feature Engineering → Baseline Models → Improved Model → Evaluation → Threshold Selection → Feature Importance → (Optional) AWS SageMaker Deploy → Conclusions\n",
        "\n",
        "Links:\n",
        "- Project brief: https://github.com/springboard-curriculum/mec2-projects/blob/main/Student_MLE_MiniProject_Churn_Prediction_AWS.md\n",
        "- AWS reference: https://aws.amazon.com/blogs/machine-learning/build-tune-and-deploy-an-end-to-end-churn-prediction-model-using-amazon-sagemaker-pipelines/\n"
      ]
    },
    {
      "cell_type": "code",
      "execution_count": null,
      "metadata": {},
      "outputs": [],
      "source": [
        "# Data Loading\n",
        "import pandas as pd\n",
        "import numpy as np\n",
        "import matplotlib.pyplot as plt\n",
        "import seaborn as sns\n",
        "from pathlib import Path\n",
        "\n",
        "pd.set_option('display.max_columns', 200)\n",
        "\n",
        "# TODO: set your dataset path\n",
        "CSV_PATH = Path('data/churn.csv')\n",
        "if CSV_PATH.exists():\n",
        "    df = pd.read_csv(CSV_PATH)\n",
        "else:\n",
        "    # fallback tiny demo\n",
        "    df = pd.DataFrame({\n",
        "        'customer_id': range(1, 11),\n",
        "        'tenure_months': [1,3,6,12,24,36,48,60,72,84],\n",
        "        'monthly_spend': [35,40,38,45,50,60,65,70,80,90],\n",
        "        'churn': [1,0,1,0,0,0,1,0,0,0],\n",
        "        'plan': ['basic','basic','plus','plus','pro','pro','pro','plus','pro','basic']\n",
        "    })\n",
        "\n",
        "df.head()\n"
      ]
    },
    {
      "cell_type": "code",
      "execution_count": null,
      "metadata": {},
      "outputs": [],
      "source": [
        "# EDA — churn rate & class balance\n",
        "assert 'churn' in df.columns, \"Dataset must include 'churn' column (0/1).\"\n",
        "churn_rate = df['churn'].mean()\n",
        "print(f\"Churn rate: {churn_rate:.3f}\")\n",
        "\n",
        "# Class counts plot\n",
        "ax = df['churn'].value_counts().sort_index().plot(kind='bar', color=['#4daf4a','#e41a1c'])\n",
        "ax.set_xticklabels(['No churn (0)','Churn (1)'], rotation=0)\n",
        "ax.set_title('Class Balance')\n",
        "plt.show()\n",
        "\n",
        "# Basic stats\n",
        "display(df.describe(include='all'))\n"
      ]
    }
  ],
  "metadata": {
    "language_info": {
      "name": "python"
    }
  },
  "nbformat": 4,
  "nbformat_minor": 2
}
