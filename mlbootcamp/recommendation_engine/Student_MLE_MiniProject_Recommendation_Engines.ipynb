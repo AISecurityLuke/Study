{
 "cells": [
  {
   "cell_type": "markdown",
   "metadata": {},
   "source": [
    "# Recommendation Engines Homework\n",
    "\n",
    "Working through different types of recommendation systems for this assignment."
   ]
  },
  {
   "cell_type": "code",
   "execution_count": 1,
   "metadata": {},
   "outputs": [],
   "source": [
    "# importing what I need\n",
    "import pandas as pd\n",
    "import numpy as np\n",
    "import matplotlib.pyplot as plt\n",
    "import seaborn as sns\n",
    "from sklearn.metrics.pairwise import cosine_similarity\n",
    "from sklearn.decomposition import NMF\n",
    "import warnings\n",
    "warnings.filterwarnings(\"ignore\")\n",
    "\n",
    "# setting up plots\n",
    "plt.style.use(\"seaborn-v0_8\")"
   ]
  },
  {
   "cell_type": "markdown",
   "metadata": {},
   "source": [
    "## Part 1: Setting up the data"
   ]
  },
  {
   "cell_type": "code",
   "execution_count": 2,
   "metadata": {},
   "outputs": [
    {
     "name": "stdout",
     "output_type": "stream",
     "text": [
      "Matrix shape: (100, 50)\n",
      "        Item_0  Item_1  Item_2  Item_3  Item_4  Item_5  Item_6  Item_7  \\\n",
      "User_0       0       5       2       0       0       0       0       3   \n",
      "User_1       5       2       4       3       0       4       0       0   \n",
      "User_2       0       1       0       0       4       0       0       2   \n",
      "User_3       4       0       0       0       5       0       1       2   \n",
      "User_4       1       0       0       3       1       0       0       1   \n",
      "\n",
      "        Item_8  Item_9  ...  Item_40  Item_41  Item_42  Item_43  Item_44  \\\n",
      "User_0       1       2  ...        0        0        0        4        0   \n",
      "User_1       0       0  ...        0        2        2        0        2   \n",
      "User_2       0       0  ...        5        0        0        0        0   \n",
      "User_3       0       2  ...        0        3        4        1        0   \n",
      "User_4       0       0  ...        4        5        4        0        0   \n",
      "\n",
      "        Item_45  Item_46  Item_47  Item_48  Item_49  \n",
      "User_0        1        0        0        0        0  \n",
      "User_1        0        0        0        0        0  \n",
      "User_2        0        1        0        0        0  \n",
      "User_3        0        2        3        3        2  \n",
      "User_4        4        0        5        5        3  \n",
      "\n",
      "[5 rows x 50 columns]\n"
     ]
    }
   ],
   "source": [
    "# creating fake data since we dont have real data\n",
    "np.random.seed(42)\n",
    "\n",
    "# making a matrix with 100 users and 50 items\n",
    "n_users = 100\n",
    "n_items = 50\n",
    "# ratings from 0-5, with lots of 0s (sparse data)\n",
    "ratings = np.random.choice([0, 1, 2, 3, 4, 5], size=(n_users, n_items), p=[0.6, 0.1, 0.1, 0.1, 0.05, 0.05])\n",
    "\n",
    "users = [f\"User_{i}\" for i in range(n_users)]\n",
    "items = [f\"Item_{i}\" for i in range(n_items)]\n",
    "\n",
    "df = pd.DataFrame(ratings, index=users, columns=items)\n",
    "print(\"Matrix shape:\", df.shape)\n",
    "print(df.head())"
   ]
  },
  {
   "cell_type": "code",
   "execution_count": 3,
   "metadata": {},
   "outputs": [
    {
     "name": "stdout",
     "output_type": "stream",
     "text": [
      "Total ratings: 5205\n",
      "Average rating: 1.04\n",
      "How sparse: 60.0%\n"
     ]
    },
    {
     "data": {
      "image/png": "[encoded data removed]",
      "text/plain": [
       "<Figure size 800x500 with 1 Axes>"
      ]
     },
     "metadata": {},
     "output_type": "display_data"
    }
   ],
   "source": [
    "# checking the data\n",
    "print(f\"Total ratings: {df.values.sum()}\")\n",
    "print(f\"Average rating: {df.values.mean():.2f}\")\n",
    "print(f\"How sparse: {(df == 0).sum().sum() / (n_users * n_items) * 100:.1f}%\")\n",
    "\n",
    "# plot distribution\n",
    "rating_dist = pd.Series(ratings.flatten()).value_counts().sort_index()\n",
    "plt.figure(figsize=(8, 5))\n",
    "rating_dist.plot(kind=\"bar\")\n",
    "plt.title(\"Rating Distribution\")\n",
    "plt.show()"
   ]
  },
  {
   "cell_type": "markdown",
   "metadata": {},
   "source": [
    "## Part 2: User-based collaborative filtering\n",
    "\n",
    "Trying to find similar users and recommend based on what they liked."
   ]
  },
  {
   "cell_type": "code",
   "execution_count": 4,
   "metadata": {},
   "outputs": [
    {
     "name": "stdout",
     "output_type": "stream",
     "text": [
      "Recommendations for User_0:\n",
      "Item_36: 4.50\n",
      "Item_48: 4.12\n",
      "Item_17: 3.32\n",
      "Item_39: 3.15\n",
      "Item_21: 3.05\n"
     ]
    }
   ],
   "source": [
    "def user_cf(user_id, num_recs=5):\n",
    "    # get this users ratings\n",
    "    user_ratings = df.loc[user_id]\n",
    "    \n",
    "    # find similar users\n",
    "    similarities = cosine_similarity([user_ratings], df)[0]\n",
    "    similar_users = pd.Series(similarities, index=users).sort_values(ascending=False)[1:6]  # top 5\n",
    "    \n",
    "    # find items this user hasnt rated\n",
    "    unrated = user_ratings[user_ratings == 0].index\n",
    "    \n",
    "    # predict ratings\n",
    "    predictions = {}\n",
    "    for item in unrated:\n",
    "        item_ratings = df.loc[similar_users.index, item]\n",
    "        rated_by_similar = item_ratings[item_ratings > 0]\n",
    "        if len(rated_by_similar) > 0:\n",
    "            weights = similar_users.loc[rated_by_similar.index]\n",
    "            pred = np.average(rated_by_similar, weights=weights)\n",
    "            predictions[item] = pred\n",
    "    \n",
    "    # get top recommendations\n",
    "    recs = sorted(predictions.items(), key=lambda x: x[1], reverse=True)\n",
    "    return recs[:num_recs]\n",
    "\n",
    "# test it\n",
    "test_user = \"User_0\"\n",
    "recs = user_cf(test_user)\n",
    "print(f\"Recommendations for {test_user}:\")\n",
    "for item, score in recs:\n",
    "    print(f\"{item}: {score:.2f}\")"
   ]
  },
  {
   "cell_type": "markdown",
   "metadata": {},
   "source": [
    "## Part 3: Item-based collaborative filtering\n",
    "\n",
    "Now trying item similarities instead of user similarities."
   ]
  },
  {
   "cell_type": "code",
   "execution_count": 5,
   "metadata": {},
   "outputs": [
    {
     "name": "stdout",
     "output_type": "stream",
     "text": [
      "Item-based recommendations for User_0:\n",
      "Item_22: 2.75\n",
      "Item_37: 2.75\n",
      "Item_31: 2.74\n",
      "Item_27: 2.73\n",
      "Item_24: 2.70\n"
     ]
    }
   ],
   "source": [
    "def item_cf(user_id, num_recs=5):\n",
    "    user_ratings = df.loc[user_id]\n",
    "    \n",
    "    # calculate item similarities\n",
    "    item_sim = cosine_similarity(df.T)\n",
    "    item_sim_df = pd.DataFrame(item_sim, index=items, columns=items)\n",
    "    \n",
    "    unrated = user_ratings[user_ratings == 0].index\n",
    "    \n",
    "    predictions = {}\n",
    "    for item in unrated:\n",
    "        rated_items = user_ratings[user_ratings > 0].index\n",
    "        if len(rated_items) > 0:\n",
    "            sims = item_sim_df.loc[item, rated_items]\n",
    "            ratings = user_ratings[rated_items]\n",
    "            # only use positive similarities\n",
    "            pos_sims = sims > 0\n",
    "            if pos_sims.sum() > 0:\n",
    "                pred = np.average(ratings[pos_sims], weights=sims[pos_sims])\n",
    "                predictions[item] = pred\n",
    "    \n",
    "    recs = sorted(predictions.items(), key=lambda x: x[1], reverse=True)\n",
    "    return recs[:num_recs]\n",
    "\n",
    "# test item-based\n",
    "item_recs = item_cf(test_user)\n",
    "print(f\"Item-based recommendations for {test_user}:\")\n",
    "for item, score in item_recs:\n",
    "    print(f\"{item}: {score:.2f}\")"
   ]
  },
  {
   "cell_type": "markdown",
   "metadata": {},
   "source": [
    "## Part 4: Matrix Factorization with NMF\n",
    "\n",
    "Trying matrix factorization to find latent factors."
   ]
  },
  {
   "cell_type": "code",
   "execution_count": 6,
   "metadata": {},
   "outputs": [
    {
     "name": "stdout",
     "output_type": "stream",
     "text": [
      "Original shape: (100, 50)\n",
      "User factors: (100, 10)\n",
      "Item factors: (10, 50)\n",
      "Reconstruction error: 44.603\n"
     ]
    }
   ],
   "source": [
    "# prep data for NMF - replace 0s with item averages\n",
    "df_nmf = df.copy()\n",
    "df_nmf = df_nmf.replace(0, np.nan)\n",
    "item_means = df_nmf.mean()\n",
    "df_nmf = df_nmf.fillna(item_means)\n",
    "\n",
    "# run NMF\n",
    "nmf = NMF(n_components=10, random_state=42)\n",
    "W = nmf.fit_transform(df_nmf)  # user factors\n",
    "H = nmf.components_  # item factors\n",
    "\n",
    "# reconstruct\n",
    "reconstructed = np.dot(W, H)\n",
    "\n",
    "print(f\"Original shape: {df.shape}\")\n",
    "print(f\"User factors: {W.shape}\")\n",
    "print(f\"Item factors: {H.shape}\")\n",
    "print(f\"Reconstruction error: {nmf.reconstruction_err_:.3f}\")"
   ]
  },
  {
   "cell_type": "code",
   "execution_count": 7,
   "metadata": {},
   "outputs": [
    {
     "name": "stdout",
     "output_type": "stream",
     "text": [
      "NMF recommendations for User_0:\n",
      "Item_36: 3.51\n",
      "Item_5: 3.47\n",
      "Item_46: 3.38\n",
      "Item_17: 3.27\n",
      "Item_41: 3.19\n"
     ]
    }
   ],
   "source": [
    "def nmf_recs(user_id, num_recs=5):\n",
    "    user_idx = users.index(user_id)\n",
    "    user_preds = reconstructed[user_idx]\n",
    "    \n",
    "    # only recommend unrated items\n",
    "    original = df.loc[user_id]\n",
    "    unrated_mask = original == 0\n",
    "    \n",
    "    unrated_preds = user_preds[unrated_mask]\n",
    "    unrated_items = original[unrated_mask].index\n",
    "    \n",
    "    recs = list(zip(unrated_items, unrated_preds))\n",
    "    recs.sort(key=lambda x: x[1], reverse=True)\n",
    "    return recs[:num_recs]\n",
    "\n",
    "# test NMF\n",
    "nmf_recommendations = nmf_recs(test_user)\n",
    "print(f\"NMF recommendations for {test_user}:\")\n",
    "for item, score in nmf_recommendations:\n",
    "    print(f\"{item}: {score:.2f}\")"
   ]
  },
  {
   "cell_type": "markdown",
   "metadata": {},
   "source": [
    "## Part 5: Content-based filtering\n",
    "\n",
    "Making up some item features to try content-based recommendations."
   ]
  },
  {
   "cell_type": "code",
   "execution_count": 8,
   "metadata": {},
   "outputs": [
    {
     "name": "stdout",
     "output_type": "stream",
     "text": [
      "Item features:\n",
      "        category   price    rating\n",
      "Item_0      Home     Low  3.366870\n",
      "Item_1    Sports     Low  3.312037\n",
      "Item_2  Clothing    High  3.116167\n",
      "Item_3    Sports    High  3.041169\n",
      "Item_4     Books  Medium  3.424678\n"
     ]
    }
   ],
   "source": [
    "# creating fake item features\n",
    "np.random.seed(42)\n",
    "categories = [\"Electronics\", \"Books\", \"Clothing\", \"Home\", \"Sports\"]\n",
    "\n",
    "item_features = {}\n",
    "for item in items:\n",
    "    item_features[item] = {\n",
    "        \"category\": np.random.choice(categories),\n",
    "        \"price\": np.random.choice([\"Low\", \"Medium\", \"High\"]),\n",
    "        \"rating\": np.random.uniform(3.0, 5.0)\n",
    "    }\n",
    "\n",
    "features_df = pd.DataFrame.from_dict(item_features, orient=\"index\")\n",
    "print(\"Item features:\")\n",
    "print(features_df.head())"
   ]
  },
  {
   "cell_type": "code",
   "execution_count": 9,
   "metadata": {},
   "outputs": [
    {
     "name": "stdout",
     "output_type": "stream",
     "text": [
      "Content-based recommendations for User_0:\n",
      "Item_40: 7.2\n",
      "Item_32: 7.2\n",
      "Item_23: 6.9\n",
      "Item_14: 6.4\n",
      "Item_3: 6.0\n"
     ]
    }
   ],
   "source": [
    "def content_recs(user_id, num_recs=5):\n",
    "    user_ratings = df.loc[user_id]\n",
    "    rated_items = user_ratings[user_ratings > 0]\n",
    "    \n",
    "    if len(rated_items) == 0:\n",
    "        # if no ratings, just recommend popular items\n",
    "        popular = features_df.sort_values(\"rating\", ascending=False).index\n",
    "        return [(item, features_df.loc[item, \"rating\"]) for item in popular[:num_recs]]\n",
    "    \n",
    "    # build user profile from rated items\n",
    "    rated_features = features_df.loc[rated_items.index]\n",
    "    fav_category = rated_features[\"category\"].value_counts().index[0]\n",
    "    fav_price = rated_features[\"price\"].value_counts().index[0]\n",
    "    \n",
    "    # score unrated items\n",
    "    unrated = user_ratings[user_ratings == 0].index\n",
    "    scores = {}\n",
    "    \n",
    "    for item in unrated:\n",
    "        score = 0\n",
    "        item_feat = features_df.loc[item]\n",
    "        \n",
    "        if item_feat[\"category\"] == fav_category:\n",
    "            score += 2\n",
    "        if item_feat[\"price\"] == fav_price:\n",
    "            score += 1\n",
    "        score += item_feat[\"rating\"]  # add base rating\n",
    "        \n",
    "        scores[item] = score\n",
    "    \n",
    "    recs = sorted(scores.items(), key=lambda x: x[1], reverse=True)\n",
    "    return recs[:num_recs]\n",
    "\n",
    "# test content-based\n",
    "content_recommendations = content_recs(test_user)\n",
    "print(f\"Content-based recommendations for {test_user}:\")\n",
    "for item, score in content_recommendations:\n",
    "    print(f\"{item}: {score:.1f}\")"
   ]
  },
  {
   "cell_type": "markdown",
   "metadata": {},
   "source": [
    "## Comparing the methods\n",
    "\n",
    "Quick comparison of coverage for different approaches."
   ]
  },
  {
   "cell_type": "code",
   "execution_count": 10,
   "metadata": {},
   "outputs": [
    {
     "name": "stdout",
     "output_type": "stream",
     "text": [
      "User CF: 31 unique items, 62.0% coverage\n",
      "Item CF: 35 unique items, 70.0% coverage\n",
      "NMF: 36 unique items, 72.0% coverage\n",
      "Content: 33 unique items, 66.0% coverage\n"
     ]
    }
   ],
   "source": [
    "# test on a few users to see coverage\n",
    "test_users = users[:10]\n",
    "methods = [(\"User CF\", user_cf), (\"Item CF\", item_cf), (\"NMF\", nmf_recs), (\"Content\", content_recs)]\n",
    "\n",
    "results = {}\n",
    "for name, func in methods:\n",
    "    all_recs = []\n",
    "    for user in test_users:\n",
    "        try:\n",
    "            recs = func(user)\n",
    "            all_recs.extend([item for item, score in recs])\n",
    "        except:\n",
    "            pass\n",
    "    \n",
    "    unique_items = len(set(all_recs))\n",
    "    coverage = unique_items / len(items) * 100\n",
    "    results[name] = coverage\n",
    "    print(f\"{name}: {unique_items} unique items, {coverage:.1f}% coverage\")"
   ]
  },
  {
   "cell_type": "markdown",
   "metadata": {},
   "source": [
    "## Summary\n",
    "\n",
    "Tried different recommendation approaches:\n",
    "- User-based collaborative filtering\n",
    "- Item-based collaborative filtering  \n",
    "- Matrix factorization with NMF\n",
    "- Content-based filtering\n",
    "\n",
    "Each has different strengths. Collaborative filtering works well with enough data, content-based helps with cold start, and matrix factorization can find latent patterns."
   ]
  }
 ],
 "metadata": {
  "kernelspec": {
   "display_name": "data_science_env",
   "language": "python",
   "name": "python3"
  },
  "language_info": {
   "codemirror_mode": {
    "name": "ipython",
    "version": 3
   },
   "file_extension": ".py",
   "mimetype": "text/x-python",
   "name": "python",
   "nbconvert_exporter": "python",
   "pygments_lexer": "ipython3",
   "version": "3.9.21"
  }
 },
 "nbformat": 4,
 "nbformat_minor": 4
}
